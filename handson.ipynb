{
 "cells": [
  {
   "cell_type": "code",
   "execution_count": 1,
   "metadata": {},
   "outputs": [],
   "source": [
    "from Pyfhel import Pyfhel, PyCtxt, PyPtxt\n",
    "from matplotlib import pyplot as plt"
   ]
  },
  {
   "cell_type": "code",
   "execution_count": 2,
   "metadata": {},
   "outputs": [],
   "source": [
    "HE = Pyfhel()\n",
    "HE.contextGen(p=2**16 +1 , m=2**12)\n",
    "HE.keyGen()\n",
    "\n"
   ]
  },
  {
   "cell_type": "code",
   "execution_count": 3,
   "metadata": {},
   "outputs": [
    {
     "output_type": "stream",
     "name": "stdout",
     "text": "Noise level of input:\t 82\n<Pyfhel Ciphertext at 0x7fb0e72f0828, encoding=FRACTIONAL, size=2/2, noiseBudget=81>\nNoise level of output after 1 computation:\t 82\nNoise level of input after 100 computations:\t 82\nNoise level of output after 100 computations:\t 82\n7501.5\n"
    }
   ],
   "source": [
    "a = 1.5\n",
    "ca = HE.encryptFrac(a)\n",
    "print(\"Noise level of input:\\t\", HE.noiseLevel(ca))\n",
    "cb = HE.encryptFrac(0)\n",
    "\n",
    "\n",
    "cc = ca + cb\n",
    "print(cc)\n",
    "print(\"Noise level of output after 1 computation:\\t\", HE.noiseLevel(cb))\n",
    "\n",
    "\n",
    "for _ in range(5000):\n",
    "    cc += ca\n",
    "    \n",
    "print(\"Noise level of input after 100 computations:\\t\", HE.noiseLevel(ca))\n",
    "print(\"Noise level of output after 100 computations:\\t\", HE.noiseLevel(cb))\n",
    "\n",
    "\n",
    "\n",
    "print(HE.decryptFrac(cc))"
   ]
  },
  {
   "cell_type": "code",
   "execution_count": 4,
   "metadata": {},
   "outputs": [
    {
     "output_type": "stream",
     "name": "stdout",
     "text": "Noise level at the beginning of the computation is 82\nNoise level after 4249 computations: 76\n"
    }
   ],
   "source": [
    "import random\n",
    "\n",
    "i = 0\n",
    "tot = 0.0\n",
    "\n",
    "\n",
    "ctot = HE.encryptFrac(tot)\n",
    "\n",
    "print(f'Noise level at the beginning of the computation is {HE.noiseLevel(ctot)}')\n",
    "\n",
    "while True:\n",
    "    i += 1\n",
    "    new = random.random()\n",
    "    cnew = HE.encryptFrac(new)\n",
    "\n",
    "    tot += new\n",
    "    ctot += cnew\n",
    "\n",
    "    if(round(tot,3) != round(HE.decryptFrac(ctot),3)):\n",
    "        break\n",
    "\n",
    "print(f'Noise level after {i} computations: {HE.noiseLevel(ctot)}')\n",
    "\n"
   ]
  },
  {
   "cell_type": "code",
   "execution_count": 5,
   "metadata": {},
   "outputs": [
    {
     "output_type": "stream",
     "name": "stdout",
     "text": "Noise level at the beginning of the computation is 82\n0.01549477444259464 -3.3872534189884047e+18\nNoise level after 4 computations: 0\n"
    }
   ],
   "source": [
    "import random\n",
    "\n",
    "i = 0\n",
    "tot = 1.0\n",
    "\n",
    "\n",
    "ctot = HE.encryptFrac(tot)\n",
    "\n",
    "print(f'Noise level at the beginning of the computation is {HE.noiseLevel(ctot)}')\n",
    "\n",
    "while True:\n",
    "    i += 1\n",
    "    new = random.random()\n",
    "    cnew = HE.encryptFrac(new)\n",
    "\n",
    "    tot *= new\n",
    "    ctot *= cnew\n",
    "\n",
    "    if(round(tot,3) != round(HE.decryptFrac(ctot),3)):\n",
    "        break\n",
    "\n",
    "print(tot, HE.decryptFrac(ctot))\n",
    "\n",
    "print(f'Noise level after {i} computations: {HE.noiseLevel(ctot)}')\n",
    "\n"
   ]
  },
  {
   "cell_type": "code",
   "execution_count": null,
   "metadata": {},
   "outputs": [],
   "source": []
  }
 ],
 "metadata": {
  "language_info": {
   "codemirror_mode": {
    "name": "ipython",
    "version": 3
   },
   "file_extension": ".py",
   "mimetype": "text/x-python",
   "name": "python",
   "nbconvert_exporter": "python",
   "pygments_lexer": "ipython3",
   "version": "3.6.9-final"
  },
  "orig_nbformat": 2,
  "kernelspec": {
   "name": "python36964bitf81dd6fe349645d7a673ffc8dc476fbb",
   "display_name": "Python 3.6.9 64-bit"
  }
 },
 "nbformat": 4,
 "nbformat_minor": 2
}