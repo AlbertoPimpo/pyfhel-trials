{
 "cells": [
  {
   "cell_type": "code",
   "execution_count": 1,
   "metadata": {},
   "outputs": [],
   "source": [
    "from Pyfhel import Pyfhel, PyCtxt, PyPtxt\n"
   ]
  },
  {
   "cell_type": "code",
   "execution_count": 2,
   "metadata": {},
   "outputs": [],
   "source": [
    "HE = Pyfhel()\n",
    "HE.contextGen(p=2**16 +1 , m=2**12)\n",
    "HE.keyGen()"
   ]
  },
  {
   "cell_type": "code",
   "execution_count": 3,
   "metadata": {
    "tags": [
     "outputPrepend"
    ]
   },
   "outputs": [],
   "source": [
    "import base64\n",
    "\n",
    "ca = HE.encryptFrac(5.0)\n",
    "ca_bytes = PyCtxt.to_bytes(ca)\n",
    "ca_bytes_base64 = base64.b64encode(ca_bytes) \n",
    "ca_string = ca_bytes_base64.decode('utf-8')\n",
    "#str(ca_string)print(str(ca_string))\n"
   ]
  },
  {
   "cell_type": "code",
   "execution_count": 4,
   "metadata": {
    "tags": [
     "outputPrepend"
    ]
   },
   "outputs": [],
   "source": [
    "from influxdb import InfluxDBClient\n",
    "import base64\n",
    "json_body = [\n",
    "    {\n",
    "        \"measurement\": \"testMeas\",\n",
    "        \"tags\": {\n",
    "            \"device\": \"001\",\n",
    "            \"location\": \"Messina\"\n",
    "        },\n",
    "        \"fields\": {\n",
    "            \"value\": ca_string\n",
    "        }\n",
    "    }\n",
    "]\n",
    "\n",
    "client = InfluxDBClient(host='influxdb', port=8086, username='admin', password='temp', database='security_db', ssl=False)\n",
    "client.write_points(json_body)\n",
    "result = client.query('select value from testMeas;')\n",
    "#print(\"Result: {0}\".format(result))\n",
    "\n",
    "\n"
   ]
  },
  {
   "cell_type": "code",
   "execution_count": 5,
   "metadata": {
    "tags": [
     "outputPrepend"
    ]
   },
   "outputs": [
    {
     "output_type": "stream",
     "name": "stdout",
     "text": "<class 'str'>\nWorked !\nWorked !\nWorked !\n5.0\n"
    }
   ],
   "source": [
    "results = client.query('SELECT value FROM testMeas')\n",
    "#print(results.raw)\n",
    "results.get_points()\n",
    "points = results.get_points()\n",
    "ca_restored = PyCtxt()\n",
    "\n",
    "for point in points:\n",
    "    print(type(point['value']))\n",
    "    ca_string_restored = point['value']\n",
    "    assert(ca_string_restored == ca_string)\n",
    "    print('Worked !')\n",
    "\n",
    "    ca_bytes_base64_restored = ca_string_restored.encode('utf-8')\n",
    "    assert(ca_bytes_base64_restored == ca_bytes_base64)\n",
    "    print('Worked !')\n",
    "\n",
    "    ca_bytes_restored = base64.b64decode(ca_bytes_base64_restored)\n",
    "    assert(ca_bytes_restored == ca_bytes) \n",
    "    print('Worked !')\n",
    "\n",
    "    ca_restored.from_bytes(ca_bytes_restored, float)\n",
    "    print(HE.decryptFrac(ca_restored))"
   ]
  },
  {
   "cell_type": "code",
   "execution_count": 6,
   "metadata": {},
   "outputs": [],
   "source": [
    "client.drop_measurement('testMeas')"
   ]
  },
  {
   "cell_type": "code",
   "execution_count": null,
   "metadata": {},
   "outputs": [],
   "source": []
  }
 ],
 "metadata": {
  "language_info": {
   "codemirror_mode": {
    "name": "ipython",
    "version": 3
   },
   "file_extension": ".py",
   "mimetype": "text/x-python",
   "name": "python",
   "nbconvert_exporter": "python",
   "pygments_lexer": "ipython3",
   "version": "3.6.9-final"
  },
  "orig_nbformat": 2,
  "kernelspec": {
   "name": "python36964bitc0ec7eea1648495096e6f6a79a6ae3b4",
   "display_name": "Python 3.6.9 64-bit"
  }
 },
 "nbformat": 4,
 "nbformat_minor": 2
}