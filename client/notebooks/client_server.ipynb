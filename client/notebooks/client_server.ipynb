{
 "cells": [
  {
   "cell_type": "code",
   "execution_count": 1,
   "metadata": {},
   "outputs": [],
   "source": [
    "from Pyfhel import Pyfhel, PyCtxt, PyPtxt\n"
   ]
  },
  {
   "cell_type": "code",
   "execution_count": 2,
   "metadata": {},
   "outputs": [],
   "source": [
    "HE = Pyfhel()\n",
    "HE.contextGen(p=2**16 +1 , m=2**12)\n",
    "HE.keyGen()"
   ]
  },
  {
   "cell_type": "code",
   "execution_count": 3,
   "metadata": {
    "tags": [
     "outputPrepend"
    ]
   },
   "outputs": [],
   "source": [
    "import base64\n",
    "\n",
    "def ctxt2utf(ctxt):\n",
    "    ctxt_bytes = PyCtxt.to_bytes(ctxt)\n",
    "    ctxt_bytes_base64 = base64.b64encode(ctxt_bytes) \n",
    "    ctxt_string = ctxt_bytes_base64.decode('utf-8')\n",
    "    return ctxt_string\n",
    "\n",
    "ca = HE.encryptFrac(5.0)\n",
    "cb = HE.encryptFrac(3.0)\n",
    "\n",
    "ca_string = ctxt2utf(ca)\n",
    "cb_string = ctxt2utf(cb)\n",
    "\n",
    "\n",
    "def utf2ctxt(ctxt_string_restored):\n",
    "    print(type(ctxt_string_restored))\n",
    "    ctxt_restored = PyCtxt()\n",
    "    ctxt_bytes_base64_restored = ctxt_string_restored.encode('utf-8')\n",
    "    print(type(ctxt_bytes_base64_restored))\n",
    "    ctxt_bytes_restored = base64.b64decode(ctxt_bytes_base64_restored)\n",
    "    print(type(ctxt_bytes_restored))\n",
    "    ctxt_restored.from_bytes(ctxt_bytes_restored, float)\n",
    "    print(type(ctxt_restored))\n",
    "    return ctxt_restored\n",
    "\n",
    "    \n",
    "\n",
    "#str(ca_string)print(str(ca_string))\n"
   ]
  },
  {
   "cell_type": "code",
   "execution_count": 4,
   "metadata": {
    "tags": [
     "outputPrepend"
    ]
   },
   "outputs": [],
   "source": [
    "from influxdb import InfluxDBClient\n",
    "import base64\n",
    "json_body_ca = [\n",
    "    {\n",
    "        \"measurement\": \"testMeas\",\n",
    "        \"tags\": {\n",
    "            \"device\": \"001\",\n",
    "            \"location\": \"Messina\"\n",
    "        },\n",
    "        \"fields\": {\n",
    "            \"value\": ca_string\n",
    "        }\n",
    "    }\n",
    "]\n",
    "\n",
    "json_body_cb = [\n",
    "    {\n",
    "        \"measurement\": \"testMeas\",\n",
    "        \"tags\": {\n",
    "            \"device\": \"002\",\n",
    "            \"location\": \"Messina\"\n",
    "        },\n",
    "        \"fields\": {\n",
    "            \"value\": cb_string\n",
    "        }\n",
    "    }\n",
    "]\n",
    "\n",
    "\n",
    "client = InfluxDBClient(host='influxdb', port=8086, username='admin', password='temp', database='security_db', ssl=False)\n",
    "client.write_points(json_body_ca)\n",
    "client.write_points(json_body_cb)\n",
    "\n",
    "result = client.query('select value from testMeas;')\n",
    "#print(\"Result: {0}\".format(result))\n",
    "\n",
    "\n"
   ]
  },
  {
   "cell_type": "code",
   "execution_count": 9,
   "metadata": {
    "tags": [
     "outputPrepend"
    ]
   },
   "outputs": [
    {
     "name": "stdout",
     "output_type": "stream",
     "text": [
      "<class 'str'>\n",
      "<class 'bytes'>\n",
      "<class 'bytes'>\n",
      "<class 'Pyfhel.PyCtxt.PyCtxt'>\n",
      "<class 'str'>\n",
      "<class 'bytes'>\n",
      "<class 'bytes'>\n",
      "<class 'Pyfhel.PyCtxt.PyCtxt'>\n",
      "5.0\n",
      "3.0\n"
     ]
    }
   ],
   "source": [
    "results = client.query('SELECT value FROM testMeas')\n",
    "#print(results.raw)\n",
    "results.get_points()\n",
    "points = results.get_points()\n",
    "\n",
    "\n",
    "[ca_restored, cb_restored] = [utf2ctxt(point['value']) for point in points]\n",
    "print(HE.decryptFrac(ca_restored))\n",
    "print(HE.decryptFrac(cb_restored))\n",
    "cresult = HE.add(ca_restored, cb_restored)\n",
    "result = HE.decryptFrac(cresult)\n",
    "assert(result == 8)\n",
    "\n",
    "\n",
    "# for point in points:\n",
    "    \n",
    "#     print(type(point['value']))\n",
    "#     ca_string_restored = point['value']\n",
    "#     assert(ca_string_restored == ca_string)\n",
    "#     print('Worked !')\n",
    "\n",
    "#     ca_bytes_base64_restored = ca_string_restored.encode('utf-8')\n",
    "#     assert(ca_bytes_base64_restored == ca_bytes_base64)\n",
    "#     print('Worked !')\n",
    "\n",
    "#     ca_bytes_restored = base64.b64decode(ca_bytes_base64_restored)\n",
    "#     assert(ca_bytes_restored == ca_bytes) \n",
    "#     print('Worked !')\n",
    "\n",
    "#     ca_restored.from_bytes(ca_bytes_restored, float)\n",
    "#     print(HE.decryptFrac(ca_restored))"
   ]
  },
  {
   "cell_type": "code",
   "execution_count": null,
   "metadata": {},
   "outputs": [],
   "source": [
    "#client.drop_measurement('testMeas')"
   ]
  },
  {
   "cell_type": "code",
   "execution_count": null,
   "metadata": {},
   "outputs": [],
   "source": []
  },
  {
   "cell_type": "code",
   "execution_count": null,
   "metadata": {},
   "outputs": [],
   "source": []
  }
 ],
 "metadata": {
  "kernelspec": {
   "display_name": "Python 3",
   "language": "python",
   "name": "python3"
  },
  "language_info": {
   "codemirror_mode": {
    "name": "ipython",
    "version": 3
   },
   "file_extension": ".py",
   "mimetype": "text/x-python",
   "name": "python",
   "nbconvert_exporter": "python",
   "pygments_lexer": "ipython3",
   "version": "3.6.9"
  }
 },
 "nbformat": 4,
 "nbformat_minor": 2
}
