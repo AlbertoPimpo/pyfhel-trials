{
 "cells": [
  {
   "cell_type": "code",
   "execution_count": 1,
   "metadata": {},
   "outputs": [],
   "source": [
    "from Pyfhel import Pyfhel, PyCtxt, PyPtxt\n",
    "from matplotlib import pyplot as plt\n",
    "import random"
   ]
  },
  {
   "cell_type": "code",
   "execution_count": null,
   "metadata": {},
   "outputs": [],
   "source": [
    "def addTest(p, m):\n",
    "    HE = Pyfhel()\n",
    "    HE.contextGen(p, m)\n",
    "    HE.keyGen()\n",
    "\n",
    "\n",
    "    i = 0\n",
    "    tot = 0.0\n",
    "    ctot = HE.encryptFrac(tot)\n",
    "    startNoise = HE.noiseLevel(ctot)\n",
    "\n",
    "    while True:\n",
    "        i += 1\n",
    "        new = random.random()\n",
    "        cnew = HE.encryptFrac(new)\n",
    "\n",
    "        tot += new\n",
    "        ctot += cnew\n",
    "\n",
    "        if(round(tot,3) != round(HE.decryptFrac(ctot),3)):\n",
    "            break\n",
    "\n",
    "    return {\n",
    "        'startNoise': startNoise\n",
    "        'endNoise': HE.noiseLevel(ctot)\n",
    "        'tests_executed': i\n",
    "    }\n",
    "\n",
    "\n",
    "\n"
   ]
  },
  {
   "cell_type": "code",
   "execution_count": null,
   "metadata": {},
   "outputs": [],
   "source": [
    "def plot_test(varible, value, testType):\n",
    "    fig, ax = plt.subplots()\n",
    "    ax.plot(iterator, [result[value] for result in results])\n",
    "\n",
    "    ax.set(xlabel=variable, ylabel=value,\n",
    "        title=testType)\n",
    "    ax.grid()\n",
    "\n",
    "    fig.savefig(f\"{testType}.png\")\n",
    "    plt.show()"
   ]
  },
  {
   "cell_type": "code",
   "execution_count": null,
   "metadata": {},
   "outputs": [],
   "source": [
    "#test variating p\n",
    "iterator = [2**even for even in range(4,16,2)]\n",
    "resultsAddTestP = [addTest(param, 2**12) for param in iterator]\n",
    "plot_test('p', 'tests_executed', 'Number of test to broke values')"
   ]
  },
  {
   "cell_type": "code",
   "execution_count": 2,
   "metadata": {},
   "outputs": [],
   "source": [
    "HE = Pyfhel()\n",
    "HE.contextGen(p=2**16 +1 , m=2**12)\n",
    "HE.keyGen()\n",
    "\n"
   ]
  },
  {
   "cell_type": "code",
   "execution_count": 4,
   "metadata": {},
   "outputs": [
    {
     "output_type": "stream",
     "name": "stdout",
     "text": "Noise level at the beginning of the computation is 82\nNoise level after 4249 computations: 76\n"
    }
   ],
   "source": [
    "import random\n",
    "\n",
    "i = 0\n",
    "tot = 0.0\n",
    "\n",
    "\n",
    "ctot = HE.encryptFrac(tot)\n",
    "\n",
    "print(f'Noise level at the beginning of the computation is {HE.noiseLevel(ctot)}')\n",
    "\n",
    "while True:\n",
    "    i += 1\n",
    "    new = random.random()\n",
    "    cnew = HE.encryptFrac(new)\n",
    "\n",
    "    tot += new\n",
    "    ctot += cnew\n",
    "\n",
    "    if(round(tot,3) != round(HE.decryptFrac(ctot),3)):\n",
    "        break\n",
    "\n",
    "print(f'Noise level after {i} computations: {HE.noiseLevel(ctot)}')\n",
    "\n"
   ]
  },
  {
   "cell_type": "code",
   "execution_count": 5,
   "metadata": {},
   "outputs": [
    {
     "output_type": "stream",
     "name": "stdout",
     "text": "Noise level at the beginning of the computation is 82\n0.01549477444259464 -3.3872534189884047e+18\nNoise level after 4 computations: 0\n"
    }
   ],
   "source": [
    "import random\n",
    "\n",
    "i = 0\n",
    "tot = 1.0\n",
    "\n",
    "\n",
    "ctot = HE.encryptFrac(tot)\n",
    "\n",
    "print(f'Noise level at the beginning of the computation is {HE.noiseLevel(ctot)}')\n",
    "\n",
    "while True:\n",
    "    i += 1\n",
    "    new = random.random()\n",
    "    cnew = HE.encryptFrac(new)\n",
    "\n",
    "    tot *= new\n",
    "    ctot *= cnew\n",
    "\n",
    "    if(round(tot,3) != round(HE.decryptFrac(ctot),3)):\n",
    "        break\n",
    "\n",
    "print(tot, HE.decryptFrac(ctot))\n",
    "\n",
    "print(f'Noise level after {i} computations: {HE.noiseLevel(ctot)}')\n",
    "\n"
   ]
  },
  {
   "cell_type": "code",
   "execution_count": null,
   "metadata": {},
   "outputs": [],
   "source": []
  }
 ],
 "metadata": {
  "language_info": {
   "codemirror_mode": {
    "name": "ipython",
    "version": 3
   },
   "file_extension": ".py",
   "mimetype": "text/x-python",
   "name": "python",
   "nbconvert_exporter": "python",
   "pygments_lexer": "ipython3",
   "version": "3.6.9-final"
  },
  "orig_nbformat": 2,
  "kernelspec": {
   "name": "python36964bitf81dd6fe349645d7a673ffc8dc476fbb",
   "display_name": "Python 3.6.9 64-bit"
  }
 },
 "nbformat": 4,
 "nbformat_minor": 2
}